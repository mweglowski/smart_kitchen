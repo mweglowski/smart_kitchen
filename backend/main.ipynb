{
 "cells": [
  {
   "cell_type": "code",
   "execution_count": 1,
   "metadata": {},
   "outputs": [],
   "source": [
    "from openai import OpenAI\n",
    "from dotenv import load_dotenv\n",
    "import os\n",
    "\n",
    "load_dotenv()\n",
    "API_KEY = os.getenv('API_KEY')\n",
    "client = OpenAI(api_key=API_KEY)"
   ]
  },
  {
   "cell_type": "code",
   "execution_count": 2,
   "metadata": {},
   "outputs": [],
   "source": [
    "response = client.chat.completions.create(\n",
    "  model=\"gpt-3.5-turbo\",\n",
    "  messages=[\n",
    "    {\"role\": \"system\", \"content\": \"Give me a recipe what can I cook using some of these ingredients. I have milk, butter, bread, eggs, flour, apple, banana.\"}\n",
    "  ]\n",
    ")"
   ]
  },
  {
   "cell_type": "code",
   "execution_count": 9,
   "metadata": {},
   "outputs": [
    {
     "name": "stdout",
     "output_type": "stream",
     "text": [
      "One delightful recipe you can make using the ingredients you have is Banana French Toast with Caramelized Apples. Here's how to prepare it:\n",
      "\n",
      "Ingredients:\n",
      "- 2 ripe bananas\n",
      "- 4 slices of bread\n",
      "- 4 eggs\n",
      "- 1/2 cup milk\n",
      "- 1 tablespoon butter\n",
      "- 1 tablespoon flour\n",
      "- 1 apple (any variety)\n",
      "- 2 tablespoons butter (for caramelizing)\n",
      "- 2 tablespoons brown sugar\n",
      "- 1/2 teaspoon cinnamon (optional)\n",
      "\n",
      "Instructions:\n",
      "1. Start by preparing the caramelized apples. Peel and slice the apple into thin pieces.\n",
      "2. In a frying pan, melt 2 tablespoons of butter over medium heat. Once melted, add the sliced apples.\n",
      "3. Sprinkle the apples with brown sugar and cinnamon (if desired) and stir occasionally until the apples have caramelized and turned golden brown. Set aside.\n",
      "4. In a shallow bowl, whisk together the eggs and milk until well combined.\n",
      "5. Heat a large skillet or frying pan over medium-low heat and add 1 tablespoon of butter. Allow the butter to melt and coat the pan.\n",
      "6. Dip each bread slice into the egg and milk mixture, making sure to coat both sides.\n",
      "7. Place the dipped bread slices onto the heated skillet and cook for about 2-3 minutes on each side, or until golden brown and cooked through. Repeat for all slices of bread.\n",
      "8. While the French toast is cooking, mash the ripe bananas in a small bowl until smooth.\n",
      "9. Once the French toast is cooked, spread a tablespoon of mashed banana onto each slice.\n",
      "10. Serve the banana French toast topped with the caramelized apples and enjoy!\n",
      "\n",
      "This recipe combines the sweet and creaminess of bananas with the caramelized apples to create a delicious breakfast or brunch treat.\n"
     ]
    }
   ],
   "source": [
    "print(response.choices[0].message.content)"
   ]
  },
  {
   "cell_type": "code",
   "execution_count": null,
   "metadata": {},
   "outputs": [],
   "source": []
  }
 ],
 "metadata": {
  "kernelspec": {
   "display_name": "Python 3",
   "language": "python",
   "name": "python3"
  },
  "language_info": {
   "codemirror_mode": {
    "name": "ipython",
    "version": 3
   },
   "file_extension": ".py",
   "mimetype": "text/x-python",
   "name": "python",
   "nbconvert_exporter": "python",
   "pygments_lexer": "ipython3",
   "version": "3.12.0"
  }
 },
 "nbformat": 4,
 "nbformat_minor": 2
}
